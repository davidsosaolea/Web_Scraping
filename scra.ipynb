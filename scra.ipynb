{
 "cells": [
  {
   "cell_type": "code",
   "execution_count": 1,
   "metadata": {},
   "outputs": [],
   "source": [
    "import requests\n",
    "import lxml.html as html\n"
   ]
  },
  {
   "cell_type": "code",
   "execution_count": 2,
   "metadata": {},
   "outputs": [],
   "source": [
    "HOME_URL='https://rpp.pe/ultimas-noticias'\n",
    "\n",
    "XPATH_LINK_TO_ARTICLE = '//h2/a/@href'\n",
    "XPATH_TITLE_TO_ARTICLE = '//*[@id=\"content\"]/div[2]/div[1]/article/header/h1/text()'\n",
    "XPATH_SUMARY_TO_ARTICLE = '//*[@id=\"content\"]/div[2]/div[1]/article/header/div[1]/h2/text()'\n",
    "XPATH_BODY_TO_ARTICLE = '//*[@id=\"article-body\"]/p[not(@class)]/text()'"
   ]
  },
  {
   "cell_type": "code",
   "execution_count": 3,
   "metadata": {},
   "outputs": [
    {
     "name": "stdout",
     "output_type": "stream",
     "text": [
      "['https://rpp.pe/futbol/descentralizado/tabla-posiciones-vivo-liga1-2023-directo-resultados-fixture-apertura-alianza-lima-universitario-sporting-cristal-noticia-1464845', 'https://rpp.pe/futbol/descentralizado/binacional-vs-sport-huancayo-como-cuando-y-donde-en-directo-partido-por-fecha-12-del-apertura-liga-1-betsson-2023-noticia-1479027', 'https://rpp.pe/futbol/descentralizado/gol-universitario-emanuel-herrera-anoto-el-2-1-con-definicion-de-9-ante-municipal-noticia-1479111', 'https://rpp.pe/mundo/estados-unidos/eeuu-joe-biden-urge-a-restringir-el-uso-de-las-armas-tras-varios-sucesos-violentos-noticia-1479109', 'https://rpp.pe/futbol/descentralizado/ver-carlos-mannucci-vs-alianza-atletico-como-cuando-y-donde-en-directo-partido-por-fecha-12-del-apertura-liga-1-betsson-2023-noticia-1479028', 'https://rpp.pe/futbol/futbol-mundial/independiente-vs-racing-via-espn-en-vivo-como-cuando-y-donde-ver-el-clasico-de-avellaneda-por-fecha-12-de-liga-profesional-2023-noticia-1479029', 'https://rpp.pe/futbol/descentralizado/universitario-vs-municipal-via-gol-peru-en-vivo-ver-online-tv-en-directo-transmision-en-ivan-elias-moreno-por-fecha-12-del-apertura-liga-1-betsson-2023-noticia-1479021', 'https://rpp.pe/peru/actualidad/mtc-ejecuta-acciones-de-emergencia-en-las-regiones-de-piura-y-lambayeque-noticia-1479106', 'https://rpp.pe/ciencia/espacio/spacex-anuncia-el-primer-vuelo-de-starship-asi-puedes-ver-el-despegue-del-cohete-mas-poderoso-del-mundo-noticia-1478994', 'https://rpp.pe/futbol/descentralizado/adt-vs-cusco-fc-en-vivo-canales-tv-y-horarios-en-directo-transmision-por-fecha-12-del-apertura-liga-1-betsson-2023-noticia-1479018', 'https://rpp.pe/futbol/descentralizado/gol-universitario-alex-valera-anoto-de-cabeza-el-empate-1-1-ante-municipal-noticia-1479105', 'https://rpp.pe/peru/actualidad/ancash-continua-interrumpida-la-via-pariacoto-huaraz-tras-derrumbe-de-un-cerro-noticia-1479104', 'https://rpp.pe/tecnologia/google/google-esta-trabajando-en-un-buscador-impulsado-por-inteligencia-artificial-noticia-1479101', 'https://rpp.pe/futbol/futbol-mundial/ver-gol-independiente-vs-racing-martin-cauteruccio-anoto-el-1-0-del-clasico-de-avellaneda-noticia-1479103', 'https://rpp.pe/futbol/descentralizado/gol-universitario-huacha-de-olivares-a-riveros-acabo-en-gol-de-sebastian-jaurena-de-municipal-noticia-1479102', 'https://rpp.pe/futbol/descentralizado/universitario-vs-municipal-horarios-canales-tv-ver-en-directo-liga-1-betsson-2023-noticia-1478945', 'https://rpp.pe/lima/policiales-crimenes/carlos-bruce-el-estado-le-prohibio-a-luis-manrique-tener-siquiera-un-palo-en-la-mano-para-poder-defenderse-noticia-1479100', 'https://rpp.pe/politica/gobierno/ministra-de-la-mujer-informa-que-victima-de-abuso-sexual-en-puno-salio-con-alta-voluntaria-del-hospital-noticia-1479099', 'https://rpp.pe/mundo/rusia/rusia-y-ucrania-celebran-la-pascua-ortodoxa-sin-pausa-en-los-combates-noticia-1479098', 'https://rpp.pe/politica/gobierno/ministra-de-la-mujer-alude-a-una-injerencia-politica-al-mas-alto-nivel-como-obstaculo-para-traer-a-sergio-tarache-noticia-1479092', 'https://rpp.pe/musica/conciertos/voz-propia-dolores-delirio-y-mas-bandas-peruanas-se-reunen-en-el-festival-lima-new-wave-noticia-1479095', 'https://rpp.pe/mundo/actualidad/francia-incendio-en-los-pirineos-franceses-arrasa-casi-1000-hectareas-noticia-1479091', 'https://rpp.pe/lima/actualidad/fuga-de-gas-de-transporte-publico-genero-alarma-en-el-bypass-2-de-mayo-noticia-1479090', 'https://rpp.pe/futbol/descentralizado/deportivo-garcilaso-vs-utc-como-cuando-y-donde-ver-en-directo-partido-por-fecha-12-del-apertura-liga-1-betsson-2023-noticia-1478995', 'https://rpp.pe/rotafono/servicios-a-la-comunidad/piura-ciudadano-con-discapacidad-mental-permanente-esta-desaparecido-desde-13-de-abril-noticia-1479096', 'https://rpp.pe/videojuegos/juegos/sega-planea-comprar-a-los-creadores-de-angry-birds-por-mil-millones-de-dolares-noticia-1479094', 'https://rpp.pe/musica/conciertos/eva-ayllon-anuncio-un-concierto-para-celebrar-sus-50-anos-de-trayectoria-noticia-1479088', 'https://rpp.pe/futbol/futbol-mundial/flamengo-jorge-sampaoli-llega-a-rio-de-janeiro-y-promete-resultados-en-el-fla-noticia-1479097', 'https://rpp.pe/tv/peru/milett-figueroa-vuelve-a-la-television-en-el-gran-chef-famosos-noticia-1479082', 'https://rpp.pe/lima/policiales-crimenes/surco-murio-luis-manrique-pizarro-el-sereno-que-fue-baleado-al-intentar-frustrar-un-robo-noticia-1479093', 'https://rpp.pe/politica/gobierno/poder-ejecutivo-modifico-condiciones-para-devolver-igv-a-turistas-extranjeros-noticia-1479080', 'https://rpp.pe/mundo/actualidad/sudan-fuego-cruzado-entre-el-ejercito-y-grupo-paramilitar-genera-miedo-y-angustia-en-la-poblacion-noticia-1479089', 'https://rpp.pe/multideportes/mas-deportes/punta-rocas-open-pro-sol-aguirre-se-corona-campeona-categoria-junior-en-el-wsl-noticia-1479085', 'https://rpp.pe/politica/actualidad/prohibir-a-los-limpiaparabrisas-es-el-camino-opinan-el-alcalde-de-ventanilla-y-la-alcaldesa-de-surquillo-noticia-1479079', 'https://rpp.pe/futbol/descentralizado/alianza-lima-entreno-este-domingo-pensando-en-libertad-noticia-1479084', 'https://rpp.pe/ciencia/mas-ciencia/autoridades-en-estados-unidos-pronostican-un-fenomeno-de-el-nino-en-los-proximos-6-meses-noticia-1479083', 'https://rpp.pe/lima/actualidad/huaral-inician-por-tercer-dia-labores-de-busqueda-de-desaparecidos-tras-alud-noticia-1479062', 'https://rpp.pe/lima/actualidad/huaral-ministro-de-defensa-junto-con-especialistas-tecnicos-evaluan-danos-tras-aludes-noticia-1479081', 'https://rpp.pe/futbol/futbol-mundial/manchester-united-erik-ten-hag-sentencia-hasta-13-jugadores-dejaran-el-equipo-noticia-1479076', 'https://rpp.pe/futbol/mas-futbol/universitario-de-deportes-alianza-lima-y-mas-en-liga-femenina-de-futbol-resultados-y-tabla-de-posiciones-del-torneo-peruano-noticia-1476868', 'https://rpp.pe/politica/gobierno/se-han-dispuesto-garantias-para-lideresa-indigena-olinda-silvano-tras-amenazas-de-muerte-afirma-ministra-de-cultura-noticia-1479077', 'https://rpp.pe/tecnologia/mas-tecnologia/las-diferencias-entre-las-respuestas-de-la-inteligencia-artificial-de-openai-microsoft-y-google-noticia-1479078', 'https://rpp.pe/mundo/estados-unidos/eeuu-cuatro-muertos-y-varios-heridos-a-tiros-en-cumpleanos-de-un-adolescente-en-alabama-noticia-1479087', 'https://rpp.pe/famosos/farandula/adolfo-chuiman-recuerda-como-conocio-a-gisela-valcarcel-somos-grandes-amigos-noticia-1479075', 'https://rpp.pe/tecnologia/mas-tecnologia/sospechoso-de-filtrar-documentos-oficiales-del-pentagono-fue-ubicado-por-su-perfil-de-steam-noticia-1479074', 'https://rpp.pe/futbol/descentralizado/alianza-lima-carlos-zambrano-descarto-problemas-en-la-interna-de-alianza-noticia-1479072', 'https://rpp.pe/lima/actualidad/julio-gago-en-menos-de-un-mes-los-que-limpian-vidrios-y-llantas-van-a-desaparecer-de-lima-metropolitana-noticia-1479070', 'https://rpp.pe/futbol/futbol-mundial/barcelona-vs-getafe-fecha-horarios-canales-ver-directo-laliga-santander-2023-espana-noticia-1478899', 'https://rpp.pe/peru/actualidad/gobernadora-regional-de-lima-advierte-sobre-posibles-nuevos-deslizamientos-en-la-perla-chaupis-noticia-1479073', 'https://rpp.pe/futbol/futbol-mundial/barcelona-vs-getafe-en-vivo-espn-ver-directo-laliga-2023-online-star-fecha-29-espana-noticia-1479023', 'https://rpp.pe/tecnologia/redes-sociales/el-nuevo-dueno-de-parler-desconecto-la-red-social-ni-bien-obtuvo-acceso-a-ella-noticia-1479069', 'https://rpp.pe/futbol/futbol-mundial/video-barcelona-tuvo-dos-remates-al-palo-en-el-duelo-ante-getafe-noticia-1479067', 'https://rpp.pe/videojuegos/geek/super-mario-bros-se-convierte-oficialmente-en-la-pelicula-de-videojuegos-mas-exitosa-de-la-historia-noticia-1479066', 'https://rpp.pe/futbol/futbol-mundial/arsenal-empato-2-2-ante-west-ham-y-puso-la-premier-league-al-rojo-vivo-noticia-1479064', 'https://rpp.pe/lima/policiales-crimenes/mototaxista-fue-asesinado-con-al-menos-tres-balazos-en-san-martin-de-porres-noticia-1479063', 'https://rpp.pe/lima/actualidad/repsol-niega-que-presencia-de-hidrocarburos-reportada-por-la-oefa-tenga-relacion-con-sus-actividades-noticia-1479059', 'https://rpp.pe/famosos/celebridades/anya-taylor-joy-esta-de-cumpleanos-el-menu-gambito-de-dama-y-mas-las-mejores-series-y-peliculas-para-ver-en-streaming-noticia-1478491', 'https://rpp.pe/ciencia/espacio/un-adorable-oso-perezoso-se-volvio-protagonista-de-un-lanzamiento-espacial-noticia-1479060', 'https://rpp.pe/futbol/descentralizado/alianza-lima-va-por-el-triunfo-ante-libertad-dice-guillermo-salas-noticia-1479058', 'https://rpp.pe/mundo/actualidad/grigor-dimitrov-ladrones-arrebatan-un-reloj-de-70-mil-euros-a-tenista-en-avenida-de-barcelona-noticia-1479065', 'https://rpp.pe/lima/actualidad/senamhi-cuando-dejara-de-hacer-tanto-calor-en-lima-noticia-1479053', 'https://rpp.pe/tecnologia/mas-tecnologia/apple-prepara-unos-lentes-de-realidad-aumentada-con-tecnologia-metalens-asegura-analista-noticia-1479057', 'https://rpp.pe/ciencia/espacio/james-webb-avista-una-galaxia-minuscula-en-el-universo-mas-distante-noticia-1479051', 'https://rpp.pe/futbol/futbol-mundial/video-ciro-immobile-sufrio-un-accidente-junto-a-sus-hijas-tras-choque-con-un-tranvia-noticia-1479056', 'https://rpp.pe/futbol/peruanos-en-el-mundo/gol-raul-ruidiaz-volvio-a-anotar-con-seattle-sounders-en-duelo-ante-portland-timbers-noticia-1479055', 'https://rpp.pe/ciencia/mas-ciencia/como-la-cordillera-de-los-andes-la-cadena-montanosa-mas-larga-del-mundo-alcanzo-su-enorme-tamano-noticia-1479054', 'https://rpp.pe/tecnologia/mas-tecnologia/meta-lanza-herramienta-para-convertir-dibujos-en-animaciones-gracias-a-la-inteligencia-artificial-noticia-1479049', 'https://rpp.pe/mundo/actualidad/tres-empleados-de-la-onu-mueren-en-sudan-durante-la-rebelion-noticia-1479050', 'https://rpp.pe/mundo/actualidad/india-conocido-expolitico-y-su-hermanos-fueron-asesinados-a-tiros-frente-a-camaras-de-television-noticia-1479052']\n"
     ]
    }
   ],
   "source": [
    "def parse_home():\n",
    "    try:\n",
    "        response = requests.get(HOME_URL)\n",
    "        if response.status_code == 200:\n",
    "            home = response.content.decode('utf-8')\n",
    "            parsed = html.fromstring(home)\n",
    "            links_to_notices = parsed.xpath(XPATH_LINK_TO_ARTICLE)\n",
    "            print(links_to_notices)\n",
    "        else:\n",
    "            raise ValueError(f'Error: {response.status_code}')\n",
    "    except ValueError as ve:\n",
    "        print(ve)\n",
    "    \n",
    "def run():\n",
    "    parse_home()\n",
    "    \n",
    "if __name__ == \"__main__\":\n",
    "    run()"
   ]
  }
 ],
 "metadata": {
  "kernelspec": {
   "display_name": "py35",
   "language": "python",
   "name": "python3"
  },
  "language_info": {
   "codemirror_mode": {
    "name": "ipython",
    "version": 3
   },
   "file_extension": ".py",
   "mimetype": "text/x-python",
   "name": "python",
   "nbconvert_exporter": "python",
   "pygments_lexer": "ipython3",
   "version": "3.11.3"
  },
  "orig_nbformat": 4
 },
 "nbformat": 4,
 "nbformat_minor": 2
}
