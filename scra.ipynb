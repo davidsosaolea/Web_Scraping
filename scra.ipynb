{
 "cells": [
  {
   "cell_type": "code",
   "execution_count": 6,
   "metadata": {},
   "outputs": [],
   "source": [
    "import requests\n",
    "import lxml.html as html\n"
   ]
  },
  {
   "cell_type": "code",
   "execution_count": 16,
   "metadata": {},
   "outputs": [],
   "source": [
    "HOME_URL='https://rpp.pe/ultimas-noticias'\n",
    "\n",
    "XPATH_LINK_TO_ARTICLE = '//h2/a/@href'\n",
    "XPATH_TITLE_TO_ARTICLE = '//*[@id=\"content\"]/div[2]/div[1]/article/header/h1/text()'\n",
    "XPATH_SUMARY_TO_ARTICLE = '//*[@id=\"content\"]/div[2]/div[1]/article/header/div[1]/h2/text()'\n",
    "XPATH_BODY_TO_ARTICLE = '//*[@id=\"article-body\"]/p[not(@class)]/text()'"
   ]
  },
  {
   "cell_type": "code",
   "execution_count": null,
   "metadata": {},
   "outputs": [],
   "source": [
    "def parse_home():\n",
    "    try:\n",
    "        response = requests.get(HOME_URL)\n",
    "        if response.status_code == 200:\n",
    "            home = response.content.decode('utf-8')\n",
    "            parsed = html.fromstring(home)\n",
    "            links_to_notices = parsed.xpath(XPATH_LINK_TO_ARTICLE)\n",
    "            print(links_to_notices)\n",
    "        else:\n",
    "            raise ValueError(f'Error: {response.status_code}')\n",
    "    except ValueError as ve:\n",
    "        print(ve)\n",
    "    \n",
    "def run():\n",
    "    parse_home()\n",
    "    \n",
    "if __name__ == \"__main__\":\n",
    "    run()"
   ]
  }
 ],
 "metadata": {
  "kernelspec": {
   "display_name": "py35",
   "language": "python",
   "name": "python3"
  },
  "language_info": {
   "codemirror_mode": {
    "name": "ipython",
    "version": 3
   },
   "file_extension": ".py",
   "mimetype": "text/x-python",
   "name": "python",
   "nbconvert_exporter": "python",
   "pygments_lexer": "ipython3",
   "version": "3.11.3"
  },
  "orig_nbformat": 4
 },
 "nbformat": 4,
 "nbformat_minor": 2
}
